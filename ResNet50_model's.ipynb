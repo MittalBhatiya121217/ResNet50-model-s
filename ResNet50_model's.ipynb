{
  "nbformat": 4,
  "nbformat_minor": 0,
  "metadata": {
    "colab": {
      "provenance": []
    },
    "kernelspec": {
      "name": "python3",
      "display_name": "Python 3"
    },
    "language_info": {
      "name": "python"
    }
  },
  "cells": [
    {
      "cell_type": "code",
      "execution_count": null,
      "metadata": {
        "colab": {
          "base_uri": "https://localhost:8080/"
        },
        "id": "-2kxOLb0CCbK",
        "outputId": "0adf6fb6-411a-4785-a71a-91e4480a3858"
      },
      "outputs": [
        {
          "output_type": "stream",
          "name": "stdout",
          "text": [
            "      Id       RI     Na    Mg    Al     Si     K    Ca    Ba   Fe  Type\n",
            "0      1  1.52101  13.64  4.49  1.10  71.78  0.06  8.75  0.00  0.0     1\n",
            "1      2  1.51761  13.89  3.60  1.36  72.73  0.48  7.83  0.00  0.0     1\n",
            "2      3  1.51618  13.53  3.55  1.54  72.99  0.39  7.78  0.00  0.0     1\n",
            "3      4  1.51766  13.21  3.69  1.29  72.61  0.57  8.22  0.00  0.0     1\n",
            "4      5  1.51742  13.27  3.62  1.24  73.08  0.55  8.07  0.00  0.0     1\n",
            "..   ...      ...    ...   ...   ...    ...   ...   ...   ...  ...   ...\n",
            "209  210  1.51623  14.14  0.00  2.88  72.61  0.08  9.18  1.06  0.0     7\n",
            "210  211  1.51685  14.92  0.00  1.99  73.06  0.00  8.40  1.59  0.0     7\n",
            "211  212  1.52065  14.36  0.00  2.02  73.42  0.00  8.44  1.64  0.0     7\n",
            "212  213  1.51651  14.38  0.00  1.94  73.61  0.00  8.48  1.57  0.0     7\n",
            "213  214  1.51711  14.23  0.00  2.08  73.36  0.00  8.62  1.67  0.0     7\n",
            "\n",
            "[214 rows x 11 columns]\n"
          ]
        }
      ],
      "source": [
        "import pandas as pd\n",
        "import numpy as np\n",
        "from io import StringIO\n",
        "columns = ['Id','RI','Na', 'Mg', 'Al', 'Si', 'K', 'Ca', 'Ba','Fe','Type']\n",
        "df = pd.read_csv('https://archive.ics.uci.edu/ml/machine-learning-databases/glass/glass.data',\n",
        "                 names=columns, header=None)\n",
        "print(df)"
      ]
    },
    {
      "cell_type": "markdown",
      "source": [
        "**Task 1**"
      ],
      "metadata": {
        "id": "uRrOJbW9Du4j"
      }
    },
    {
      "cell_type": "markdown",
      "source": [
        "On the normalized Glass dataset that you created in Part A visualize each feature through the use of a stacked histogram that counts the number of instances for each of the seven classes. To do this you will bin each feature’s value range into 5 bins. Now build a stacked histogram for each feature where the counts for each class value are stacked on top of each other."
      ],
      "metadata": {
        "id": "FiKGcvnHDzS5"
      }
    },
    {
      "cell_type": "code",
      "source": [
        "import matplotlib.pyplot as plt\n",
        "import numpy as np\n",
        "from matplotlib import colors\n",
        "from matplotlib.ticker import PercentFormatter\n",
        "import pandas as pd\n",
        "columns = ['Id','RI','Na', 'Mg', 'Al', 'Si', 'K', 'Ca', 'Ba','Fe','Type']\n",
        "df = pd.read_csv('https://archive.ics.uci.edu/ml/machine-learning-databases/glass/glass.data',\n",
        "                 names=columns, header=None)\n",
        "\n",
        "# Creating dataset\n",
        "\n",
        "n_bins = [0.0,0.2,0.4,0.6,0.8,1.0]\n",
        "\n",
        "# Creating distribution\n",
        "x = df.drop('Type',axis=1)\n",
        "y = df.Type\n",
        "legend = x\n",
        "\n",
        "# Creating histogram\n",
        "fig, axs = plt.subplots(1, 1,figsize =(10, 7),tight_layout = True)\n",
        "\n",
        "\n",
        "# Remove axes splines\n",
        "for s in ['top', 'bottom', 'left', 'right']:\n",
        "\taxs.spines[s].set_visible(False)\n",
        "\n",
        "# Remove x, y ticks\n",
        "axs.xaxis.set_ticks_position('none')\n",
        "axs.yaxis.set_ticks_position('none')\n",
        "\n",
        "# Add padding between axes and labels\n",
        "axs.xaxis.set_tick_params(pad = 5)\n",
        "axs.yaxis.set_tick_params(pad = 10)\n",
        "\n",
        "# Add x, y gridlines\n",
        "axs.grid(b = True, color ='grey',\n",
        "\t\tlinestyle ='-.', linewidth = 0.5,\n",
        "\t\talpha = 0.6)\n",
        "\n",
        "\n",
        "\n",
        "# Creating histogram\n",
        "N, bins, patches = axs.hist(x, bins = n_bins,stacked=True)\n",
        "\n",
        "\n",
        "\n",
        "# Adding extra features\n",
        "plt.xlabel('x')\n",
        "plt.ylabel(\"Type\")\n",
        "plt.legend(x)\n",
        "plt.title('Task 1')\n",
        "\n",
        "# Show plot\n",
        "plt.show()\n"
      ],
      "metadata": {
        "colab": {
          "base_uri": "https://localhost:8080/",
          "height": 513
        },
        "id": "eVM4d0ozOJ9Y",
        "outputId": "cd3de39a-3359-47c2-a118-e4be0bccb07b"
      },
      "execution_count": null,
      "outputs": [
        {
          "output_type": "display_data",
          "data": {
            "text/plain": [
              "<Figure size 720x504 with 1 Axes>"
            ],
            "image/png": "[encoded data removed]"
          },
          "metadata": {
            "needs_background": "light"
          }
        }
      ]
    },
    {
      "cell_type": "code",
      "source": [
        "import pandas as pd\n",
        "import matplotlib.pyplot as plt\n",
        "\n",
        "# Load the dataset\n",
        "import pandas as pd\n",
        "columns = ['Id','RI','Na', 'Mg', 'Al', 'Si', 'K', 'Ca', 'Ba','Fe','Type']\n",
        "df = pd.read_csv('https://archive.ics.uci.edu/ml/machine-learning-databases/glass/glass.data',\n",
        "                 names=columns, header=None)\n",
        "# Set the number of bins for the histogram\n",
        "num_bins = [0.0,0.2,0.4,0.6,0.8,1.0]\n",
        "\n",
        "# Set the figure size\n",
        "plt.figure(figsize=(20, 18))\n",
        "\n",
        "# Loop through each feature and create a stacked histogram\n",
        "for i, feature in enumerate(df.columns[:-1]):\n",
        "    plt.subplot(5, 5, i+1)\n",
        "    for class_value in range(1,7):\n",
        "        plt.hist(df[df['Type'] == class_value][feature], bins=num_bins, alpha=0.5, label='Class '+str(class_value))\n",
        "    plt.title(feature)\n",
        "    plt.legend()\n",
        "\n",
        "# Display the plot\n",
        "plt.show()\n",
        "\n",
        "\n",
        "\n"
      ],
      "metadata": {
        "colab": {
          "base_uri": "https://localhost:8080/",
          "height": 435
        },
        "id": "NoEDXuG5SAJb",
        "outputId": "a9edd17a-e017-4243-97ad-518aca43bb87"
      },
      "execution_count": null,
      "outputs": [
        {
          "output_type": "display_data",
          "data": {
            "text/plain": [
              "<Figure size 1440x1296 with 10 Axes>"
            ],
            "image/png": "[encoded data removed]"
          },
          "metadata": {
            "needs_background": "light"
          }
        }
      ]
    },
    {
      "cell_type": "markdown",
      "source": [
        "**Task 2**\n",
        "With the number of bins set to 5, create a 2-way table that records for each bin (represented as a value range for the Mg feature) the count for each class value. The rows of the table represent bin ranges whereas the columns represent class values.\n",
        "Now compress this table to a 3 by 7 table with 3 bins instead of the original 5. The bin ranges must be set in such a way so as to maximize the degree of separation between the classes. This 3 by 7 table is the basis for engineering new features.\n"
      ],
      "metadata": {
        "id": "oPMafn0fHkK5"
      }
    },
    {
      "cell_type": "code",
      "source": [
        "import pandas as pd\n",
        "\n",
        "columns = ['Id','RI','Na', 'Mg', 'Al', 'Si', 'K', 'Ca', 'Ba','Fe','Type']\n",
        "df = pd.read_csv('https://archive.ics.uci.edu/ml/machine-learning-databases/glass/glass.data',names=columns, header=None)\n",
        "num_bins = 5\n",
        "bin_labels = range(1, num_bins+1)\n",
        "df['Mg_bin'] = pd.cut(df['Mg'], num_bins, labels=bin_labels)\n",
        "\n",
        "table = pd.crosstab(df['Mg_bin'], df['Type'])\n",
        "from sklearn.tree import DecisionTreeClassifier\n",
        "import numpy as np\n",
        "\n",
        "# Split Mg bins into 3 groups\n",
        "num_groups = 3\n",
        "split_labels = range(1, num_groups+1)\n",
        "df['Mg_split'] = pd.qcut(df['Mg'], num_groups, labels=split_labels)\n",
        "\n",
        "# Fit decision tree to predict Type based on Mg_split\n",
        "X = df[['Mg_split']]\n",
        "y = df['Type']\n",
        "dt = DecisionTreeClassifier(max_depth=1, random_state=0)\n",
        "dt.fit(X, y)\n",
        "\n",
        "# Extract split points from decision tree\n",
        "split_points = sorted(list(set(dt.tree_.threshold[dt.tree_.feature == 0])))\n",
        "split_points = [-np.inf] + split_points + [np.inf]\n",
        "bin_labels = [f\"{split_points[i]:.2f}-{split_points[i+1]:.2f}\" for i in range(len(split_points)-1)]\n",
        "\n",
        "# Create 3 by 7 table based on new bin ranges\n",
        "df['Mg_bin2'] = pd.cut(df['Mg'], bins=split_points, labels=bin_labels, include_lowest=True)\n",
        "table2 = pd.crosstab(df['Mg_bin2'], df['Type'])\n",
        "\n",
        "print(table2)"
      ],
      "metadata": {
        "colab": {
          "base_uri": "https://localhost:8080/"
        },
        "id": "ef2YhFcOpyQ1",
        "outputId": "63a4d39d-3d52-4570-84b7-c39226fdc847"
      },
      "execution_count": null,
      "outputs": [
        {
          "output_type": "stream",
          "name": "stdout",
          "text": [
            "Type        1   2   3  5  6   7\n",
            "Mg_bin2                        \n",
            "-inf-1.50   0  11   0  8  4  23\n",
            "1.50-inf   70  65  17  5  5   6\n"
          ]
        }
      ]
    },
    {
      "cell_type": "code",
      "source": [
        "import matplotlib.pyplot as plt\n",
        "import numpy as np\n",
        "from matplotlib import colors\n",
        "from matplotlib.ticker import PercentFormatter\n",
        "import pandas as pd\n",
        "columns = ['Id','RI','Na', 'Mg', 'Al', 'Si', 'K', 'Ca', 'Ba','Fe','Type']\n",
        "df = pd.read_csv('https://archive.ics.uci.edu/ml/machine-learning-databases/glass/glass.data',\n",
        "                 names=columns, header=None)\n",
        "\n",
        "# Creating dataset\n",
        "\n",
        "n_bins = [0.0,0.2,0.6,0.8]\n",
        "\n",
        "# Creating distribution\n",
        "x = df.drop('Type',axis=1)\n",
        "y = df.Type\n",
        "legend = x\n",
        "\n",
        "# Creating histogram\n",
        "fig, axs = plt.subplots(1, 1,figsize =(10, 7),tight_layout = True)\n",
        "\n",
        "\n",
        "# Remove axes splines\n",
        "for s in ['top', 'bottom', 'left', 'right']:\n",
        "\taxs.spines[s].set_visible(False)\n",
        "\n",
        "# Remove x, y ticks\n",
        "axs.xaxis.set_ticks_position('none')\n",
        "axs.yaxis.set_ticks_position('none')\n",
        "\n",
        "# Add padding between axes and labels\n",
        "axs.xaxis.set_tick_params(pad = 5)\n",
        "axs.yaxis.set_tick_params(pad = 10)\n",
        "\n",
        "# Add x, y gridlines\n",
        "axs.grid(b = True, color ='grey',\n",
        "\t\tlinestyle ='-.', linewidth = 0.5,\n",
        "\t\talpha = 0.6)\n",
        "\n",
        "\n",
        "\n",
        "# Creating histogram\n",
        "N, bins, patches = axs.hist(x, bins = n_bins,stacked=True)\n",
        "\n",
        "\n",
        "\n",
        "# Adding extra features\n",
        "plt.xlabel('x')\n",
        "plt.ylabel(\"Type\")\n",
        "plt.legend(x)\n",
        "plt.title('Task 1')\n",
        "\n",
        "# Show plot\n",
        "plt.show()\n"
      ],
      "metadata": {
        "colab": {
          "base_uri": "https://localhost:8080/",
          "height": 513
        },
        "id": "xQf-qE8Znb1k",
        "outputId": "14019104-5ca5-4ce2-993e-5bed8308858b"
      },
      "execution_count": null,
      "outputs": [
        {
          "output_type": "display_data",
          "data": {
            "text/plain": [
              "<Figure size 720x504 with 1 Axes>"
            ],
            "image/png": "[encoded data removed]"
          },
          "metadata": {
            "needs_background": "light"
          }
        }
      ]
    },
    {
      "cell_type": "markdown",
      "source": [
        "**Task 3**\n",
        "Take the Mg feature which is the most predictive feature and replace it by 3 new derived features Mg1, Mg2 and Mg3. These 3 new features are built as follows.\n",
        "First partition the dataset into 3 horizontal partitions v2_1, v2_2 and v2_3 by using the bin ranges that you identified in Task 2 above. For each row in v2_1 frame populate Mg1 with the Mg value for that row. If the row does not exist in v2_1, then populate Mg1 with the row value for Mg from the original data frame. The values for Mg2 and Mg3 should both be set to the mid-point value (median value) of the bin range containing the class that has the biggest count after excluding the majority class in the partition v2_1. The resulting data will be stored in a new data frame df1 consisting of 214 rows. This data frame will have the following columns: 'Mg1', 'Mg2', 'Mg3', 'Al', 'K', 'Type'\n",
        "Likewise, do 2 more passes (one each for v2_2 and v2_3) through the original data frame and process in the same manner as described in the above paragraph. Two new data frames df2 and df3 will result, each of which will have exactly the same columns as df1.\n",
        "At the conclusion of this task, you will have engineered 3 new features Mg1, Mg2 and Mg3.\n"
      ],
      "metadata": {
        "id": "WrM1UiO7h5va"
      }
    },
    {
      "cell_type": "code",
      "source": [
        "import pandas as pd\n",
        "import pandas as pd\n",
        "columns = ['Id','RI','Na', 'Mg', 'Al', 'Si', 'K', 'Ca', 'Ba','Fe','Type']\n",
        "df = pd.read_csv('https://archive.ics.uci.edu/ml/machine-learning-databases/glass/glass.data',\n",
        "                 names=columns, header=None)\n",
        "\n",
        "v2_1 = df['Mg'] <= 0.2\n",
        "Mg1 = df[v2_1]\n",
        "#print(Mg1)\n",
        "v2_2 = (df['Mg'] >= 0.2) & (df['Mg'] <= 0.6)\n",
        "Mg2 = df[v2_2]\n",
        "#print(Mg2)\n",
        "v2_3 = df['Mg'] <= 0.8\n",
        "Mg3 = df[v2_3]\n",
        "#print(Mg3)\n",
        "\n",
        "Mg1=v2_1\n",
        "Mg2=v2_2\n",
        "Mg3=v2_3\n",
        "\n",
        "df_1=df[Mg1+Mg2+Mg3]\n",
        "df_2=df[['Al','K','Type']]\n",
        "df1=df_2.append(df_1)\n",
        "#print(df1)\n",
        "df1 = pd.concat([df_1, df_2], axis=1, join='inner')\n",
        "#print(df1)\n",
        "df2 = pd.concat([df_1, df_2], axis=1, join='inner')\n",
        "#print(df2)\n",
        "df3 = pd.concat([df_1, df_2], axis=1, join='inner')\n",
        "#print(df3)\n"
      ],
      "metadata": {
        "id": "s-0KmielocfQ"
      },
      "execution_count": null,
      "outputs": []
    },
    {
      "cell_type": "code",
      "source": [
        "# First, create empty data frames to store the partitioned data\n",
        "v2_1 = pd.DataFrame()\n",
        "v2_2 = pd.DataFrame()\n",
        "v2_3 = pd.DataFrame()\n",
        "\n",
        "# Define the bin ranges as identified in Task 2\n",
        "bin_ranges =  [0.0,0.2,0.6,0.8]\n",
        "\n",
        "\n",
        "# Partition the data based on the bin ranges\n",
        "for i in range(len(bin_ranges)-1):\n",
        "    mask = (df['Mg'] >= bin_ranges[i]) & (df['Mg'] < bin_ranges[i+1])\n",
        "    if i == 0:\n",
        "        v2_1 = df.loc[mask]\n",
        "    elif i == 1:\n",
        "        v2_2 = df.loc[mask]\n",
        "    else:\n",
        "        v2_3 = df.loc[mask]\n",
        "\n",
        "# Define a function to calculate the median value of the bin range\n",
        "def median_bin_value(dataframe):\n",
        "    counts = df['Type'].value_counts()\n",
        "    top1_class = counts.index[0]\n",
        "    top1_class_count = counts[top1_class]\n",
        "    second1_class = counts.index[1]\n",
        "    second1_class_count = counts[second1_class]\n",
        "    if top1_class_count == second1_class_count:\n",
        "        median_values = df['Mg'].median()\n",
        "    else:\n",
        "        median_range = df[df['Type'] == second1_class]['Mg'].median()\n",
        "        median_values = (bin_ranges[counts.index.get_loc(second1_class)] + bin_ranges[counts.index.get_loc(second1_class)+1])/2\n",
        "    return median_values\n",
        "\n",
        "# Define a function to create the new data frames\n",
        "def create_new_df(df):\n",
        "    Mg1 = []\n",
        "    Mg2 = []\n",
        "    Mg3 = []\n",
        "    for index, row in df.iterrows():\n",
        "        if index in v2_1.index:\n",
        "            Mg1.append(v2_1.loc[index]['Mg'])\n",
        "        else:\n",
        "            Mg1.append(row['Mg'])\n",
        "        Mg2.append(median_bin_value(v2_1))\n",
        "        Mg3.append(median_bin_value(v2_1))\n",
        "    new_df = pd.DataFrame({'Mg1': Mg1, 'Mg2': Mg2, 'Mg3': Mg3, 'Al': df['Al'], 'K': df['K'], 'Type': df['Type']})\n",
        "    return new_df\n",
        "\n",
        "# Create the three new data frames\n",
        "df1 = create_new_df(v2_1)\n",
        "df2 = create_new_df(v2_2)\n",
        "df3 = create_new_df(v2_3)\n",
        "print(df1)\n",
        "print(df2)\n",
        "print(df3)\n"
      ],
      "metadata": {
        "colab": {
          "base_uri": "https://localhost:8080/"
        },
        "id": "VpU_jWRa_XaJ",
        "outputId": "992f4a00-9774-477d-c21d-c3beb6279c2c"
      },
      "execution_count": null,
      "outputs": [
        {
          "output_type": "stream",
          "name": "stdout",
          "text": [
            "     Mg1  Mg2  Mg3    Al     K  Type\n",
            "105  0.0  0.4  0.4  1.88  0.81     2\n",
            "106  0.0  0.4  0.4  2.10  0.58     2\n",
            "107  0.0  0.4  0.4  1.00  0.12     2\n",
            "108  0.0  0.4  0.4  1.00  0.10     2\n",
            "109  0.0  0.4  0.4  0.56  0.00     2\n",
            "110  0.0  0.4  0.4  0.77  0.00     2\n",
            "111  0.0  0.4  0.4  0.75  0.00     2\n",
            "112  0.0  0.4  0.4  0.67  0.06     2\n",
            "131  0.0  0.4  0.4  1.36  0.19     2\n",
            "167  0.0  0.4  0.4  1.65  0.38     5\n",
            "168  0.0  0.4  0.4  1.83  0.97     5\n",
            "169  0.0  0.4  0.4  1.76  0.47     5\n",
            "170  0.0  0.4  0.4  1.58  0.32     5\n",
            "171  0.0  0.4  0.4  3.04  6.21     5\n",
            "172  0.0  0.4  0.4  3.02  6.21     5\n",
            "173  0.0  0.4  0.4  1.40  0.33     5\n",
            "182  0.0  0.4  0.4  2.09  0.00     6\n",
            "183  0.0  0.4  0.4  0.56  0.00     6\n",
            "184  0.0  0.4  0.4  0.34  0.00     6\n",
            "191  0.0  0.4  0.4  2.38  0.00     7\n",
            "192  0.0  0.4  0.4  2.79  0.04     7\n",
            "193  0.0  0.4  0.4  2.00  0.00     7\n",
            "194  0.0  0.4  0.4  1.98  0.00     7\n",
            "195  0.0  0.4  0.4  2.68  0.08     7\n",
            "196  0.0  0.4  0.4  2.54  0.14     7\n",
            "197  0.0  0.4  0.4  2.34  0.00     7\n",
            "198  0.0  0.4  0.4  2.66  0.04     7\n",
            "199  0.0  0.4  0.4  2.51  0.05     7\n",
            "200  0.0  0.4  0.4  2.25  0.00     7\n",
            "201  0.0  0.4  0.4  1.19  2.70     7\n",
            "202  0.0  0.4  0.4  2.42  0.00     7\n",
            "203  0.0  0.4  0.4  1.99  0.00     7\n",
            "204  0.0  0.4  0.4  2.27  0.00     7\n",
            "205  0.0  0.4  0.4  1.80  0.00     7\n",
            "206  0.0  0.4  0.4  1.87  0.00     7\n",
            "207  0.0  0.4  0.4  1.82  1.41     7\n",
            "208  0.0  0.4  0.4  2.74  0.00     7\n",
            "209  0.0  0.4  0.4  2.88  0.08     7\n",
            "210  0.0  0.4  0.4  1.99  0.00     7\n",
            "211  0.0  0.4  0.4  2.02  0.00     7\n",
            "212  0.0  0.4  0.4  1.94  0.00     7\n",
            "213  0.0  0.4  0.4  2.08  0.00     7\n",
            "      Mg1  Mg2  Mg3    Al     K  Type\n",
            "175  0.33  0.4  0.4  1.51  0.13     5\n",
            "      Mg1  Mg2  Mg3    Al    K  Type\n",
            "181  0.78  0.4  0.4  1.74  0.0     6\n"
          ]
        }
      ]
    },
    {
      "cell_type": "markdown",
      "source": [
        "**Task 4**\n",
        "You will now concatenate the 3 data frames df1, df2 and df3 into a new data frame df4. This new data frame df4 will have 642 rows. Now apply the Logistic Regression classifier to df4 after partitioning it into training and testing segments and training the classifier on the training segment. Compute the classification accuracy and the confusion matrix on the testing segment. Compare the results to the results produced without feature engineering on the original data frame df.\n"
      ],
      "metadata": {
        "id": "ms_wJhKWc1D6"
      }
    },
    {
      "cell_type": "code",
      "source": [
        "import pandas as pd\n",
        "# combine the dataframes vertically (i.e. stacking them on top of each other)\n",
        "\n",
        "df4 = pd.concat([df1,df2,df3])\n",
        "# print the combined dataframe\n",
        "print(df4)\n",
        "\n",
        "import pandas as pd\n",
        "from sklearn.linear_model import LogisticRegression\n",
        "from sklearn.model_selection import train_test_split\n",
        "from sklearn.metrics import confusion_matrix, accuracy_score\n",
        "\n",
        "X = df4.drop('Type', axis=1)\n",
        "y = df4['Type']\n",
        "\n",
        "X_train, X_test, y_train, y_test = train_test_split(X, y, test_size=0.2, random_state=42)\n",
        "df4.isnull().any()\n",
        "\n",
        "lr = LogisticRegression()\n",
        "lr.fit(X_train, y_train)\n",
        "\n",
        "y_pred = lr.predict(X_test)\n",
        "accuracy = accuracy_score(y_test, y_pred)\n",
        "conf_mat = confusion_matrix(y_test, y_pred)\n",
        "\n",
        "print(f'Accuracy: {accuracy}')\n",
        "print(f'Confusion matrix:\\n{conf_mat}')\n",
        "\n",
        "# load the dataset\n",
        "\n",
        "# split the dataset into training and testing segments\n",
        "X = df4.drop('Type', axis=1)\n",
        "y = df4['Type']\n",
        "X_train, X_test, y_train, y_test = train_test_split(X, y, test_size=0.2, random_state=42)\n",
        "\n",
        "# train the Logistic Regression classifier on the training segment\n",
        "lr = LogisticRegression()\n",
        "lr.fit(X_train, y_train)\n",
        "\n",
        "# make predictions on the testing segment\n",
        "y_pred = lr.predict(X_test)\n",
        "\n",
        "# compute the classification accuracy and the confusion matrix on the testing segment\n",
        "accuracy = accuracy_score(y_test, y_pred)\n",
        "conf_mat = confusion_matrix(y_test, y_pred)\n",
        "\n",
        "print(f'Accuracy without feature engineering: {accuracy}')\n",
        "print(f'Confusion matrix without feature engineering:\\n{conf_mat}')\n",
        "\n"
      ],
      "metadata": {
        "id": "j_Rvm9aKc1ZM",
        "colab": {
          "base_uri": "https://localhost:8080/"
        },
        "outputId": "029434e2-4710-41bd-c91e-52fefe2af5c2"
      },
      "execution_count": null,
      "outputs": [
        {
          "output_type": "stream",
          "name": "stdout",
          "text": [
            "      Mg1  Mg2  Mg3    Al     K  Type\n",
            "105  0.00  0.4  0.4  1.88  0.81     2\n",
            "106  0.00  0.4  0.4  2.10  0.58     2\n",
            "107  0.00  0.4  0.4  1.00  0.12     2\n",
            "108  0.00  0.4  0.4  1.00  0.10     2\n",
            "109  0.00  0.4  0.4  0.56  0.00     2\n",
            "110  0.00  0.4  0.4  0.77  0.00     2\n",
            "111  0.00  0.4  0.4  0.75  0.00     2\n",
            "112  0.00  0.4  0.4  0.67  0.06     2\n",
            "131  0.00  0.4  0.4  1.36  0.19     2\n",
            "167  0.00  0.4  0.4  1.65  0.38     5\n",
            "168  0.00  0.4  0.4  1.83  0.97     5\n",
            "169  0.00  0.4  0.4  1.76  0.47     5\n",
            "170  0.00  0.4  0.4  1.58  0.32     5\n",
            "171  0.00  0.4  0.4  3.04  6.21     5\n",
            "172  0.00  0.4  0.4  3.02  6.21     5\n",
            "173  0.00  0.4  0.4  1.40  0.33     5\n",
            "182  0.00  0.4  0.4  2.09  0.00     6\n",
            "183  0.00  0.4  0.4  0.56  0.00     6\n",
            "184  0.00  0.4  0.4  0.34  0.00     6\n",
            "191  0.00  0.4  0.4  2.38  0.00     7\n",
            "192  0.00  0.4  0.4  2.79  0.04     7\n",
            "193  0.00  0.4  0.4  2.00  0.00     7\n",
            "194  0.00  0.4  0.4  1.98  0.00     7\n",
            "195  0.00  0.4  0.4  2.68  0.08     7\n",
            "196  0.00  0.4  0.4  2.54  0.14     7\n",
            "197  0.00  0.4  0.4  2.34  0.00     7\n",
            "198  0.00  0.4  0.4  2.66  0.04     7\n",
            "199  0.00  0.4  0.4  2.51  0.05     7\n",
            "200  0.00  0.4  0.4  2.25  0.00     7\n",
            "201  0.00  0.4  0.4  1.19  2.70     7\n",
            "202  0.00  0.4  0.4  2.42  0.00     7\n",
            "203  0.00  0.4  0.4  1.99  0.00     7\n",
            "204  0.00  0.4  0.4  2.27  0.00     7\n",
            "205  0.00  0.4  0.4  1.80  0.00     7\n",
            "206  0.00  0.4  0.4  1.87  0.00     7\n",
            "207  0.00  0.4  0.4  1.82  1.41     7\n",
            "208  0.00  0.4  0.4  2.74  0.00     7\n",
            "209  0.00  0.4  0.4  2.88  0.08     7\n",
            "210  0.00  0.4  0.4  1.99  0.00     7\n",
            "211  0.00  0.4  0.4  2.02  0.00     7\n",
            "212  0.00  0.4  0.4  1.94  0.00     7\n",
            "213  0.00  0.4  0.4  2.08  0.00     7\n",
            "175  0.33  0.4  0.4  1.51  0.13     5\n",
            "181  0.78  0.4  0.4  1.74  0.00     6\n",
            "Accuracy: 0.7777777777777778\n",
            "Confusion matrix:\n",
            "[[1 0 1]\n",
            " [0 0 1]\n",
            " [0 0 6]]\n",
            "Accuracy without feature engineering: 0.7777777777777778\n",
            "Confusion matrix without feature engineering:\n",
            "[[1 0 1]\n",
            " [0 0 1]\n",
            " [0 0 6]]\n"
          ]
        }
      ]
    },
    {
      "cell_type": "markdown",
      "source": [
        "**Task 5**\n",
        "This is essentially a repeat of Task 2 with Al replacing Mg as the predictor feature. At the conclusion of this step, you will produce a 3 by 7 table for Al.\n"
      ],
      "metadata": {
        "id": "MNS1M2_6uAy1"
      }
    },
    {
      "cell_type": "code",
      "source": [
        "import pandas as pd\n",
        "\n",
        "columns = ['Id','RI','Na', 'Mg', 'Al', 'Si', 'K', 'Ca', 'Ba','Fe','Type']\n",
        "df = pd.read_csv('https://archive.ics.uci.edu/ml/machine-learning-databases/glass/glass.data',names=columns, header=None)\n",
        "num_bins = 5\n",
        "bin_labels = range(1, num_bins+1)\n",
        "df['Al_bin'] = pd.cut(df['Al'], num_bins, labels=bin_labels)\n",
        "\n",
        "table = pd.crosstab(df['Al_bin'], df['Type'])\n",
        "from sklearn.tree import DecisionTreeClassifier\n",
        "import numpy as np\n",
        "\n",
        "# Split Mg bins into 3 groups\n",
        "num_groups = 3\n",
        "split_labels = range(1, num_groups+1)\n",
        "df['Al_split'] = pd.qcut(df['Al'], num_groups, labels=split_labels)\n",
        "\n",
        "# Fit decision tree to predict Type based on Mg_split\n",
        "X = df[['Al_split']]\n",
        "y = df['Type']\n",
        "dt = DecisionTreeClassifier(max_depth=1, random_state=0)\n",
        "dt.fit(X, y)\n",
        "\n",
        "# Extract split points from decision tree\n",
        "split_points = sorted(list(set(dt.tree_.threshold[dt.tree_.feature == 0])))\n",
        "split_points = [-np.inf] + split_points + [np.inf]\n",
        "bin_labels = [f\"{split_points[i]:.2f}-{split_points[i+1]:.2f}\" for i in range(len(split_points)-1)]\n",
        "\n",
        "# Create 3 by 7 table based on new bin ranges\n",
        "df['Al_bin2'] = pd.cut(df['Al'], bins=split_points, labels=bin_labels, include_lowest=True)\n",
        "table2 = pd.crosstab(df['Al_bin2'], df['Type'])\n",
        "\n",
        "print(table2)"
      ],
      "metadata": {
        "colab": {
          "base_uri": "https://localhost:8080/"
        },
        "id": "8pDnaq69uFYN",
        "outputId": "9edd0e62-8120-4ee2-bc67-6578f01fc2f5"
      },
      "execution_count": null,
      "outputs": [
        {
          "output_type": "stream",
          "name": "stdout",
          "text": [
            "Type        1   2   3   5  6   7\n",
            "Al_bin2                         \n",
            "-inf-2.50  70  76  17  10  9  22\n",
            "2.50-inf    0   0   0   3  0   7\n"
          ]
        }
      ]
    },
    {
      "cell_type": "markdown",
      "source": [
        "\n",
        "**Task 6**This essentially a repeat of Task 3 with Al replacing Mg as the predictor feature. At the conclusion of this step, you will have engineered 3 more features Al1, Al2 and Al3. You will also have produced 3 new data frames df5, df6 and df7 having 642 rows and the following columns:\n",
        "'Mg1', 'Mg2', 'Mg3', 'Al1', 'Al2', ''Al3', K', 'Type'"
      ],
      "metadata": {
        "id": "_w2m8jL1FoiX"
      }
    },
    {
      "cell_type": "code",
      "source": [
        "import pandas as pd\n",
        "\n",
        "url = 'https://archive.ics.uci.edu/ml/machine-learning-databases/glass/glass.data'\n",
        "cols = ['id', 'RI', 'Na', 'Mg', 'Al', 'Si', 'K', 'Ca', 'Ba', 'Fe', 'Type']\n",
        "df = pd.read_csv(url, header=None, names=cols, index_col='id')\n",
        "\n",
        "# Create Mg1, Mg2, and Mg3\n",
        "df['Mg1'] = (df['Mg'] / df['Ca']).astype(float)\n",
        "df['Mg2'] = (df['Mg'] / df['Al']).astype(float)\n",
        "df['Mg3'] = (df['Mg'] / df['Si']).astype(float)\n",
        "\n",
        "# Create Al1, Al2, and Al3\n",
        "df['Al1'] = (df['Al'] / df['Ca']).astype(float)\n",
        "df['Al2'] = (df['Al'] / df['Mg']).astype(float)\n",
        "df['Al3'] = (df['Al'] / df['Si']).astype(float)\n",
        "\n",
        "# Create df5 with Mg1, Mg2, Mg3, K, and Type\n",
        "df5 = df.loc[:, ['Mg1', 'Mg2', 'Mg3','Al1', 'Al2', 'Al3', 'K', 'Type']].copy()\n",
        "df5 = df5.dropna()  # Remove any rows with missing values\n",
        "\n",
        "# Create df6 with Al1, Al2, Al3, K, and Type\n",
        "df6 = df.loc[:, ['Mg1', 'Mg2', 'Mg3','Al1', 'Al2', 'Al3', 'K', 'Type']].copy()\n",
        "df6 = df6.dropna()  # Remove any rows with missing values\n",
        "\n",
        "# Create df7 with Mg1, Mg2, Mg3, Al1, Al2, Al3, K, and Type\n",
        "df7 = df.loc[:, ['Mg1', 'Mg2', 'Mg3', 'Al1', 'Al2', 'Al3', 'K', 'Type']].copy()\n",
        "df7 = df7.dropna()  # Remove any rows with missing values\n",
        "\n",
        "print(df5)\n",
        "print(df6)\n",
        "print(df7)"
      ],
      "metadata": {
        "colab": {
          "base_uri": "https://localhost:8080/"
        },
        "id": "OzJc44CTDhzQ",
        "outputId": "e2bd39e4-cdd4-4818-d68b-afdc28a866d6"
      },
      "execution_count": null,
      "outputs": [
        {
          "output_type": "stream",
          "name": "stdout",
          "text": [
            "          Mg1       Mg2       Mg3       Al1       Al2       Al3     K  Type\n",
            "id                                                                         \n",
            "1    0.513143  4.081818  0.062552  0.125714  0.244989  0.015325  0.06     1\n",
            "2    0.459770  2.647059  0.049498  0.173691  0.377778  0.018699  0.48     1\n",
            "3    0.456298  2.305195  0.048637  0.197943  0.433803  0.021099  0.39     1\n",
            "4    0.448905  2.860465  0.050819  0.156934  0.349593  0.017766  0.57     1\n",
            "5    0.448575  2.919355  0.049535  0.153656  0.342541  0.016968  0.55     1\n",
            "..        ...       ...       ...       ...       ...       ...   ...   ...\n",
            "210  0.000000  0.000000  0.000000  0.313725       inf  0.039664  0.08     7\n",
            "211  0.000000  0.000000  0.000000  0.236905       inf  0.027238  0.00     7\n",
            "212  0.000000  0.000000  0.000000  0.239336       inf  0.027513  0.00     7\n",
            "213  0.000000  0.000000  0.000000  0.228774       inf  0.026355  0.00     7\n",
            "214  0.000000  0.000000  0.000000  0.241299       inf  0.028353  0.00     7\n",
            "\n",
            "[214 rows x 8 columns]\n",
            "          Mg1       Mg2       Mg3       Al1       Al2       Al3     K  Type\n",
            "id                                                                         \n",
            "1    0.513143  4.081818  0.062552  0.125714  0.244989  0.015325  0.06     1\n",
            "2    0.459770  2.647059  0.049498  0.173691  0.377778  0.018699  0.48     1\n",
            "3    0.456298  2.305195  0.048637  0.197943  0.433803  0.021099  0.39     1\n",
            "4    0.448905  2.860465  0.050819  0.156934  0.349593  0.017766  0.57     1\n",
            "5    0.448575  2.919355  0.049535  0.153656  0.342541  0.016968  0.55     1\n",
            "..        ...       ...       ...       ...       ...       ...   ...   ...\n",
            "210  0.000000  0.000000  0.000000  0.313725       inf  0.039664  0.08     7\n",
            "211  0.000000  0.000000  0.000000  0.236905       inf  0.027238  0.00     7\n",
            "212  0.000000  0.000000  0.000000  0.239336       inf  0.027513  0.00     7\n",
            "213  0.000000  0.000000  0.000000  0.228774       inf  0.026355  0.00     7\n",
            "214  0.000000  0.000000  0.000000  0.241299       inf  0.028353  0.00     7\n",
            "\n",
            "[214 rows x 8 columns]\n",
            "          Mg1       Mg2       Mg3       Al1       Al2       Al3     K  Type\n",
            "id                                                                         \n",
            "1    0.513143  4.081818  0.062552  0.125714  0.244989  0.015325  0.06     1\n",
            "2    0.459770  2.647059  0.049498  0.173691  0.377778  0.018699  0.48     1\n",
            "3    0.456298  2.305195  0.048637  0.197943  0.433803  0.021099  0.39     1\n",
            "4    0.448905  2.860465  0.050819  0.156934  0.349593  0.017766  0.57     1\n",
            "5    0.448575  2.919355  0.049535  0.153656  0.342541  0.016968  0.55     1\n",
            "..        ...       ...       ...       ...       ...       ...   ...   ...\n",
            "210  0.000000  0.000000  0.000000  0.313725       inf  0.039664  0.08     7\n",
            "211  0.000000  0.000000  0.000000  0.236905       inf  0.027238  0.00     7\n",
            "212  0.000000  0.000000  0.000000  0.239336       inf  0.027513  0.00     7\n",
            "213  0.000000  0.000000  0.000000  0.228774       inf  0.026355  0.00     7\n",
            "214  0.000000  0.000000  0.000000  0.241299       inf  0.028353  0.00     7\n",
            "\n",
            "[214 rows x 8 columns]\n"
          ]
        }
      ]
    },
    {
      "cell_type": "markdown",
      "source": [
        "**Task 7**Now concatenate df5, df6 and df7 into a new data frame df8. This new data frame will have 642 rows and 8 columns. Now apply the Logistic Regression classifier to df8 after partitioning it into training and testing segments and training the classifier on the training segment. Compute the classification accuracy and the confusion matrix on the testing segment. Compare the results with those obtained in Task 4.\n"
      ],
      "metadata": {
        "id": "5Au79aiQHKsU"
      }
    },
    {
      "cell_type": "code",
      "source": [
        "import pandas as pd\n",
        "\n",
        "df8 = pd.concat([df5, df6, df7])\n",
        "df8 = df8[np.isfinite(df8).all(1)]\n",
        "\n",
        "print(df8)\n",
        "from sklearn.model_selection import train_test_split\n",
        "\n",
        "X = df8.iloc[:, :-1]\n",
        "y = df8.iloc[:, -1]\n",
        "\n",
        "X_train, X_test, y_train, y_test = train_test_split(X, y, test_size=0.3, random_state=42)\n",
        "\n",
        "\n",
        "from sklearn.linear_model import LogisticRegression\n",
        "from sklearn.metrics import accuracy_score, confusion_matrix\n",
        "\n",
        "lr = LogisticRegression()\n",
        "lr.fit(X_train, y_train)\n",
        "y_pred = lr.predict(X_test)\n",
        "accuracy = accuracy_score(y_test, y_pred)\n",
        "confusion_mat = confusion_matrix(y_test, y_pred)\n",
        "\n",
        "print(\"Classification Accuracy:\", accuracy)\n",
        "print(\"Confusion Matrix:\\n\", confusion_mat)\n"
      ],
      "metadata": {
        "colab": {
          "base_uri": "https://localhost:8080/"
        },
        "id": "qcYDoyW4efeH",
        "outputId": "153bf3ac-1cf2-4c91-80d6-ace64611bd4c"
      },
      "execution_count": null,
      "outputs": [
        {
          "output_type": "stream",
          "name": "stdout",
          "text": [
            "          Mg1       Mg2       Mg3       Al1       Al2       Al3     K  Type\n",
            "id                                                                         \n",
            "1    0.513143  4.081818  0.062552  0.125714  0.244989  0.015325  0.06     1\n",
            "2    0.459770  2.647059  0.049498  0.173691  0.377778  0.018699  0.48     1\n",
            "3    0.456298  2.305195  0.048637  0.197943  0.433803  0.021099  0.39     1\n",
            "4    0.448905  2.860465  0.050819  0.156934  0.349593  0.017766  0.57     1\n",
            "5    0.448575  2.919355  0.049535  0.153656  0.342541  0.016968  0.55     1\n",
            "..        ...       ...       ...       ...       ...       ...   ...   ...\n",
            "187  0.563040  1.468468  0.045754  0.383420  0.680982  0.031158  1.46     7\n",
            "188  0.378256  2.715447  0.046145  0.139298  0.368263  0.016994  0.60     7\n",
            "189  0.225410  1.067961  0.031312  0.211066  0.936364  0.029320  0.76     7\n",
            "190  0.212544  1.396947  0.025983  0.152149  0.715847  0.018600  0.31     7\n",
            "191  0.205306  0.994413  0.024350  0.206459  1.005618  0.024487  0.00     7\n",
            "\n",
            "[516 rows x 8 columns]\n",
            "Classification Accuracy: 0.5096774193548387\n",
            "Confusion Matrix:\n",
            " [[39 23  0  0  0  0]\n",
            " [23 35  0  1  0  0]\n",
            " [11  3  0  0  0  0]\n",
            " [ 0  3  0  4  0  0]\n",
            " [ 0  5  0  0  1  0]\n",
            " [ 2  5  0  0  0  0]]\n"
          ]
        }
      ]
    },
    {
      "cell_type": "markdown",
      "source": [
        "**Task 8**In this task we will optimize further. The biggest obstacles to accuracy at this point is the overlap between classes 1 and 2.\n",
        "We will first partition data frame df4 which you produced in Task 4 into two data frames df4_1 and df4_2. The data frame df4_1 consist of all rows that are predicted to be of class 1 by the Logistic Regression model built using df4. Similarly, data frame df4_2 consist of all rows that are predicted to be of class 2 by the Logistic Regression model built using df4. Use a 70/30 split on each of df4_1 and df4_2 to obtain training and test splits on these two data frames.\n",
        "Now train a Logistic Regression classifier using the training segment df4_1_train and test the accuracy of the model (m1) generated on df4_1_test. Repeat this process for df4_2_train and obtain the accuracy of model m2 trained on df4_2_train. Now compute the new overall accuracy by taking the confusion matrix in task 4 and replacing the first two rows (i.e., for classes 1 and 2) with the first two rows in the matrix obtained from m1 and m2. Compute the overall classification accuracy by hand and report on the accuracy that you computed.\n"
      ],
      "metadata": {
        "id": "NIg3PdJfH-qC"
      }
    },
    {
      "cell_type": "code",
      "source": [
        "import pandas as pd\n",
        "\n",
        "df4 = pd.concat([df1, df2, df3])\n",
        "df4 = df4[np.isfinite(df4).all(1)]\n",
        "\n",
        "print(df4)\n",
        "# Get predicted class labels\n",
        "part_1 = df4.iloc[:, :3]\n",
        "part_2 = df4.iloc[:, 3:]\n",
        "\n",
        "\n",
        "# Subset rows of df4 that correspond to class 1 and class 2\n",
        "df4_1 = y_pred == 1\n",
        "df4_2 = y_pred == 2\n",
        "from sklearn.model_selection import train_test_split\n",
        "\n",
        "# Split df4_1 into training and test sets\n",
        "df4_1_train, df4_1_test = train_test_split(df4_1, test_size=0.3)\n",
        "\n",
        "# Split df4_2 into training and test sets\n",
        "df4_2_train, df4_2_test = train_test_split(df4_2, test_size=0.3)\n",
        "\n",
        "from sklearn.linear_model import LogisticRegression\n",
        "\n",
        "# Model for df4_1\n",
        "logreg_model_1 = LogisticRegression(solver='liblinear', C=0.1, random_state=42)\n",
        "X_train_1 = df4_1_train.drop(['Type'], axis=1)\n",
        "y_train_1 = df4_1_train['Type']\n",
        "logreg_model_1.fit(X_train_1, y_train_1)\n",
        "\n",
        "# Model for df4_2\n",
        "logreg_model_2 = LogisticRegression(solver='liblinear', C=0.1, random_state=42)\n",
        "X_train_2 = df4_2_train.drop(['Type'], axis=1)\n",
        "y_train_2 = df4_2_train['Type']\n",
        "logreg_model_2.fit(X_train_2, y_train_2)\n",
        "\n",
        "acc_1 = logreg_model_1.score(df4_1_test.drop(['Type'], axis=1), df4_1_test['Type'])\n",
        "acc_2 = logreg_model_2.score(df4_2_test.drop(['Type'], axis=1), df4_2_test['Type'])\n"
      ],
      "metadata": {
        "colab": {
          "base_uri": "https://localhost:8080/",
          "height": 1000
        },
        "id": "JYg3t1nTl1Z4",
        "outputId": "cace5df3-e360-4627-f535-1ece1da23daf"
      },
      "execution_count": null,
      "outputs": [
        {
          "output_type": "stream",
          "name": "stdout",
          "text": [
            "      Mg1  Mg2  Mg3    Al     K  Type\n",
            "105  0.00  0.4  0.4  1.88  0.81     2\n",
            "106  0.00  0.4  0.4  2.10  0.58     2\n",
            "107  0.00  0.4  0.4  1.00  0.12     2\n",
            "108  0.00  0.4  0.4  1.00  0.10     2\n",
            "109  0.00  0.4  0.4  0.56  0.00     2\n",
            "110  0.00  0.4  0.4  0.77  0.00     2\n",
            "111  0.00  0.4  0.4  0.75  0.00     2\n",
            "112  0.00  0.4  0.4  0.67  0.06     2\n",
            "131  0.00  0.4  0.4  1.36  0.19     2\n",
            "167  0.00  0.4  0.4  1.65  0.38     5\n",
            "168  0.00  0.4  0.4  1.83  0.97     5\n",
            "169  0.00  0.4  0.4  1.76  0.47     5\n",
            "170  0.00  0.4  0.4  1.58  0.32     5\n",
            "171  0.00  0.4  0.4  3.04  6.21     5\n",
            "172  0.00  0.4  0.4  3.02  6.21     5\n",
            "173  0.00  0.4  0.4  1.40  0.33     5\n",
            "182  0.00  0.4  0.4  2.09  0.00     6\n",
            "183  0.00  0.4  0.4  0.56  0.00     6\n",
            "184  0.00  0.4  0.4  0.34  0.00     6\n",
            "191  0.00  0.4  0.4  2.38  0.00     7\n",
            "192  0.00  0.4  0.4  2.79  0.04     7\n",
            "193  0.00  0.4  0.4  2.00  0.00     7\n",
            "194  0.00  0.4  0.4  1.98  0.00     7\n",
            "195  0.00  0.4  0.4  2.68  0.08     7\n",
            "196  0.00  0.4  0.4  2.54  0.14     7\n",
            "197  0.00  0.4  0.4  2.34  0.00     7\n",
            "198  0.00  0.4  0.4  2.66  0.04     7\n",
            "199  0.00  0.4  0.4  2.51  0.05     7\n",
            "200  0.00  0.4  0.4  2.25  0.00     7\n",
            "201  0.00  0.4  0.4  1.19  2.70     7\n",
            "202  0.00  0.4  0.4  2.42  0.00     7\n",
            "203  0.00  0.4  0.4  1.99  0.00     7\n",
            "204  0.00  0.4  0.4  2.27  0.00     7\n",
            "205  0.00  0.4  0.4  1.80  0.00     7\n",
            "206  0.00  0.4  0.4  1.87  0.00     7\n",
            "207  0.00  0.4  0.4  1.82  1.41     7\n",
            "208  0.00  0.4  0.4  2.74  0.00     7\n",
            "209  0.00  0.4  0.4  2.88  0.08     7\n",
            "210  0.00  0.4  0.4  1.99  0.00     7\n",
            "211  0.00  0.4  0.4  2.02  0.00     7\n",
            "212  0.00  0.4  0.4  1.94  0.00     7\n",
            "213  0.00  0.4  0.4  2.08  0.00     7\n",
            "175  0.33  0.4  0.4  1.51  0.13     5\n",
            "181  0.78  0.4  0.4  1.74  0.00     6\n"
          ]
        },
        {
          "output_type": "error",
          "ename": "AttributeError",
          "evalue": "ignored",
          "traceback": [
            "\u001b[0;31m---------------------------------------------------------------------------\u001b[0m",
            "\u001b[0;31mAttributeError\u001b[0m                            Traceback (most recent call last)",
            "\u001b[0;32m<ipython-input-38-a30494846e88>\u001b[0m in \u001b[0;36m<module>\u001b[0;34m\u001b[0m\n\u001b[1;32m     25\u001b[0m \u001b[0;31m# Model for df4_1\u001b[0m\u001b[0;34m\u001b[0m\u001b[0;34m\u001b[0m\u001b[0;34m\u001b[0m\u001b[0m\n\u001b[1;32m     26\u001b[0m \u001b[0mlogreg_model_1\u001b[0m \u001b[0;34m=\u001b[0m \u001b[0mLogisticRegression\u001b[0m\u001b[0;34m(\u001b[0m\u001b[0msolver\u001b[0m\u001b[0;34m=\u001b[0m\u001b[0;34m'liblinear'\u001b[0m\u001b[0;34m,\u001b[0m \u001b[0mC\u001b[0m\u001b[0;34m=\u001b[0m\u001b[0;36m0.1\u001b[0m\u001b[0;34m,\u001b[0m \u001b[0mrandom_state\u001b[0m\u001b[0;34m=\u001b[0m\u001b[0;36m42\u001b[0m\u001b[0;34m)\u001b[0m\u001b[0;34m\u001b[0m\u001b[0;34m\u001b[0m\u001b[0m\n\u001b[0;32m---> 27\u001b[0;31m \u001b[0mX_train_1\u001b[0m \u001b[0;34m=\u001b[0m \u001b[0mdf4_1_train\u001b[0m\u001b[0;34m.\u001b[0m\u001b[0mdrop\u001b[0m\u001b[0;34m(\u001b[0m\u001b[0;34m[\u001b[0m\u001b[0;34m'Type'\u001b[0m\u001b[0;34m]\u001b[0m\u001b[0;34m,\u001b[0m \u001b[0maxis\u001b[0m\u001b[0;34m=\u001b[0m\u001b[0;36m1\u001b[0m\u001b[0;34m)\u001b[0m\u001b[0;34m\u001b[0m\u001b[0;34m\u001b[0m\u001b[0m\n\u001b[0m\u001b[1;32m     28\u001b[0m \u001b[0my_train_1\u001b[0m \u001b[0;34m=\u001b[0m \u001b[0mdf4_1_train\u001b[0m\u001b[0;34m[\u001b[0m\u001b[0;34m'Type'\u001b[0m\u001b[0;34m]\u001b[0m\u001b[0;34m\u001b[0m\u001b[0;34m\u001b[0m\u001b[0m\n\u001b[1;32m     29\u001b[0m \u001b[0mlogreg_model_1\u001b[0m\u001b[0;34m.\u001b[0m\u001b[0mfit\u001b[0m\u001b[0;34m(\u001b[0m\u001b[0mX_train_1\u001b[0m\u001b[0;34m,\u001b[0m \u001b[0my_train_1\u001b[0m\u001b[0;34m)\u001b[0m\u001b[0;34m\u001b[0m\u001b[0;34m\u001b[0m\u001b[0m\n",
            "\u001b[0;31mAttributeError\u001b[0m: 'numpy.ndarray' object has no attribute 'drop'"
          ]
        }
      ]
    },
    {
      "cell_type": "code",
      "source": [
        "import pandas as pd\n",
        "\n",
        "df4 = pd.concat([df1, df2, df3])\n",
        "df4 = df4[np.isfinite(df4).all(1)]\n",
        "\n",
        "print(df4)\n",
        "from sklearn.model_selection import train_test_split\n",
        "\n",
        "X = df4.iloc[:, :-1]\n",
        "y = df4.iloc[:, -1]\n",
        "\n",
        "X_train, X_test, y_train, y_test = train_test_split(X, y, test_size=0.3, random_state=42)\n",
        "\n",
        "\n",
        "from sklearn.linear_model import LogisticRegression\n",
        "from sklearn.metrics import accuracy_score, confusion_matrix\n",
        "\n",
        "lr = LogisticRegression()\n",
        "lr.fit(X_train, y_train)\n",
        "y_pred = lr.predict(X_test)\n",
        "# create data frame df4_1 with rows predicted as class 1\n",
        "df4_1 = ['y_pred'== 1]\n",
        "\n",
        "# create data frame df4_2 with rows predicted as class 2\n",
        "df4_2 = ['y_pred' == 2]\n",
        "from sklearn.model_selection import train_test_split\n",
        "\n",
        "# split df4_1 into training and test sets\n",
        "df4_1_train, df4_1_test = train_test_split(df4_1, test_size=0.3, random_state=42)\n",
        "\n",
        "# split df4_2 into training and test sets\n",
        "df4_2_train, df4_2_test = train_test_split(df4_2, test_size=0.3, random_state=42)\n",
        "from sklearn.linear_model import LogisticRegression\n",
        "from sklearn.metrics import accuracy_score\n",
        "\n",
        "# train Logistic Regression model on df4_1_train\n",
        "X_train_1 = df4_1_train.drop(columns=['y_true', 'y_pred'])\n",
        "y_train_1 = df4_1_train['y_true']\n",
        "model_1 = LogisticRegression(random_state=42).fit(X_train_1, y_train_1)\n",
        "\n",
        "# test accuracy on df4_1_test\n",
        "X_test_1 = df4_1_test.drop(columns=['y_true', 'y_pred'])\n",
        "y_test_1 = df4_1_test['y_true']\n",
        "y_pred_1 = model_1.predict(X_test_1)\n",
        "acc_1 = accuracy_score(y_test_1, y_pred_1)\n",
        "\n",
        "# train Logistic Regression model on df4_2_train\n",
        "X_train_2 = df4_2_train.drop(columns=['y_true', 'y_pred'])\n",
        "y_train_2 = df4_2_train['y_true']\n",
        "model_2 = LogisticRegression(random_state=42).fit(X_train_2, y_train_2)\n",
        "\n",
        "# test accuracy on df4_2_test\n",
        "X_test_2 = df4_2_test.drop(columns=['y_true', 'y_pred'])\n",
        "y_test_2 = df4_2_test['y_true']\n",
        "y_pred_2 = model_2.predict(X_test_2)\n",
        "acc_2 = accuracy_score(y_test_2, y_pred_2)\n",
        "# create the confusion matrix for df4\n",
        "conf_matrix = pd.crosstab(df4['y_true'], df4['y_pred'], rownames=['Actual'], colnames=['Predicted'])\n",
        "\n",
        "# create the confusion matrices for df4_1_test and df4_2_test\n",
        "conf_matrix_1 = pd.crosstab(y_test_1, y_pred_1, rownames=['Actual'], colnames=['Predicted'])\n",
        "conf_matrix_2 = pd.crosstab(y_test_2, y_pred_2, rownames=['Actual'], colnames=['Predicted'])\n",
        "\n",
        "# replace the first two rows of conf_matrix with the first two rows\n"
      ],
      "metadata": {
        "colab": {
          "base_uri": "https://localhost:8080/",
          "height": 1000
        },
        "id": "q7HtocIisw1z",
        "outputId": "7adca93a-15cd-485c-825d-4dfa5ae7405b"
      },
      "execution_count": null,
      "outputs": [
        {
          "output_type": "stream",
          "name": "stdout",
          "text": [
            "      Mg1  Mg2  Mg3    Al     K  Type\n",
            "105  0.00  0.4  0.4  1.88  0.81     2\n",
            "106  0.00  0.4  0.4  2.10  0.58     2\n",
            "107  0.00  0.4  0.4  1.00  0.12     2\n",
            "108  0.00  0.4  0.4  1.00  0.10     2\n",
            "109  0.00  0.4  0.4  0.56  0.00     2\n",
            "110  0.00  0.4  0.4  0.77  0.00     2\n",
            "111  0.00  0.4  0.4  0.75  0.00     2\n",
            "112  0.00  0.4  0.4  0.67  0.06     2\n",
            "131  0.00  0.4  0.4  1.36  0.19     2\n",
            "167  0.00  0.4  0.4  1.65  0.38     5\n",
            "168  0.00  0.4  0.4  1.83  0.97     5\n",
            "169  0.00  0.4  0.4  1.76  0.47     5\n",
            "170  0.00  0.4  0.4  1.58  0.32     5\n",
            "171  0.00  0.4  0.4  3.04  6.21     5\n",
            "172  0.00  0.4  0.4  3.02  6.21     5\n",
            "173  0.00  0.4  0.4  1.40  0.33     5\n",
            "182  0.00  0.4  0.4  2.09  0.00     6\n",
            "183  0.00  0.4  0.4  0.56  0.00     6\n",
            "184  0.00  0.4  0.4  0.34  0.00     6\n",
            "191  0.00  0.4  0.4  2.38  0.00     7\n",
            "192  0.00  0.4  0.4  2.79  0.04     7\n",
            "193  0.00  0.4  0.4  2.00  0.00     7\n",
            "194  0.00  0.4  0.4  1.98  0.00     7\n",
            "195  0.00  0.4  0.4  2.68  0.08     7\n",
            "196  0.00  0.4  0.4  2.54  0.14     7\n",
            "197  0.00  0.4  0.4  2.34  0.00     7\n",
            "198  0.00  0.4  0.4  2.66  0.04     7\n",
            "199  0.00  0.4  0.4  2.51  0.05     7\n",
            "200  0.00  0.4  0.4  2.25  0.00     7\n",
            "201  0.00  0.4  0.4  1.19  2.70     7\n",
            "202  0.00  0.4  0.4  2.42  0.00     7\n",
            "203  0.00  0.4  0.4  1.99  0.00     7\n",
            "204  0.00  0.4  0.4  2.27  0.00     7\n",
            "205  0.00  0.4  0.4  1.80  0.00     7\n",
            "206  0.00  0.4  0.4  1.87  0.00     7\n",
            "207  0.00  0.4  0.4  1.82  1.41     7\n",
            "208  0.00  0.4  0.4  2.74  0.00     7\n",
            "209  0.00  0.4  0.4  2.88  0.08     7\n",
            "210  0.00  0.4  0.4  1.99  0.00     7\n",
            "211  0.00  0.4  0.4  2.02  0.00     7\n",
            "212  0.00  0.4  0.4  1.94  0.00     7\n",
            "213  0.00  0.4  0.4  2.08  0.00     7\n",
            "175  0.33  0.4  0.4  1.51  0.13     5\n",
            "181  0.78  0.4  0.4  1.74  0.00     6\n"
          ]
        },
        {
          "output_type": "error",
          "ename": "ValueError",
          "evalue": "ignored",
          "traceback": [
            "\u001b[0;31m---------------------------------------------------------------------------\u001b[0m",
            "\u001b[0;31mValueError\u001b[0m                                Traceback (most recent call last)",
            "\u001b[0;32m<ipython-input-44-a016f4791584>\u001b[0m in \u001b[0;36m<module>\u001b[0;34m\u001b[0m\n\u001b[1;32m     27\u001b[0m \u001b[0;34m\u001b[0m\u001b[0m\n\u001b[1;32m     28\u001b[0m \u001b[0;31m# split df4_1 into training and test sets\u001b[0m\u001b[0;34m\u001b[0m\u001b[0;34m\u001b[0m\u001b[0;34m\u001b[0m\u001b[0m\n\u001b[0;32m---> 29\u001b[0;31m \u001b[0mdf4_1_train\u001b[0m\u001b[0;34m,\u001b[0m \u001b[0mdf4_1_test\u001b[0m \u001b[0;34m=\u001b[0m \u001b[0mtrain_test_split\u001b[0m\u001b[0;34m(\u001b[0m\u001b[0mdf4_1\u001b[0m\u001b[0;34m,\u001b[0m \u001b[0mtest_size\u001b[0m\u001b[0;34m=\u001b[0m\u001b[0;36m0.3\u001b[0m\u001b[0;34m,\u001b[0m \u001b[0mrandom_state\u001b[0m\u001b[0;34m=\u001b[0m\u001b[0;36m42\u001b[0m\u001b[0;34m)\u001b[0m\u001b[0;34m\u001b[0m\u001b[0;34m\u001b[0m\u001b[0m\n\u001b[0m\u001b[1;32m     30\u001b[0m \u001b[0;34m\u001b[0m\u001b[0m\n\u001b[1;32m     31\u001b[0m \u001b[0;31m# split df4_2 into training and test sets\u001b[0m\u001b[0;34m\u001b[0m\u001b[0;34m\u001b[0m\u001b[0;34m\u001b[0m\u001b[0m\n",
            "\u001b[0;32m/usr/local/lib/python3.8/dist-packages/sklearn/model_selection/_split.py\u001b[0m in \u001b[0;36mtrain_test_split\u001b[0;34m(test_size, train_size, random_state, shuffle, stratify, *arrays)\u001b[0m\n\u001b[1;32m   2418\u001b[0m \u001b[0;34m\u001b[0m\u001b[0m\n\u001b[1;32m   2419\u001b[0m     \u001b[0mn_samples\u001b[0m \u001b[0;34m=\u001b[0m \u001b[0m_num_samples\u001b[0m\u001b[0;34m(\u001b[0m\u001b[0marrays\u001b[0m\u001b[0;34m[\u001b[0m\u001b[0;36m0\u001b[0m\u001b[0;34m]\u001b[0m\u001b[0;34m)\u001b[0m\u001b[0;34m\u001b[0m\u001b[0;34m\u001b[0m\u001b[0m\n\u001b[0;32m-> 2420\u001b[0;31m     n_train, n_test = _validate_shuffle_split(\n\u001b[0m\u001b[1;32m   2421\u001b[0m         \u001b[0mn_samples\u001b[0m\u001b[0;34m,\u001b[0m \u001b[0mtest_size\u001b[0m\u001b[0;34m,\u001b[0m \u001b[0mtrain_size\u001b[0m\u001b[0;34m,\u001b[0m \u001b[0mdefault_test_size\u001b[0m\u001b[0;34m=\u001b[0m\u001b[0;36m0.25\u001b[0m\u001b[0;34m\u001b[0m\u001b[0;34m\u001b[0m\u001b[0m\n\u001b[1;32m   2422\u001b[0m     )\n",
            "\u001b[0;32m/usr/local/lib/python3.8/dist-packages/sklearn/model_selection/_split.py\u001b[0m in \u001b[0;36m_validate_shuffle_split\u001b[0;34m(n_samples, test_size, train_size, default_test_size)\u001b[0m\n\u001b[1;32m   2096\u001b[0m \u001b[0;34m\u001b[0m\u001b[0m\n\u001b[1;32m   2097\u001b[0m     \u001b[0;32mif\u001b[0m \u001b[0mn_train\u001b[0m \u001b[0;34m==\u001b[0m \u001b[0;36m0\u001b[0m\u001b[0;34m:\u001b[0m\u001b[0;34m\u001b[0m\u001b[0;34m\u001b[0m\u001b[0m\n\u001b[0;32m-> 2098\u001b[0;31m         raise ValueError(\n\u001b[0m\u001b[1;32m   2099\u001b[0m             \u001b[0;34m\"With n_samples={}, test_size={} and train_size={}, the \"\u001b[0m\u001b[0;34m\u001b[0m\u001b[0;34m\u001b[0m\u001b[0m\n\u001b[1;32m   2100\u001b[0m             \u001b[0;34m\"resulting train set will be empty. Adjust any of the \"\u001b[0m\u001b[0;34m\u001b[0m\u001b[0;34m\u001b[0m\u001b[0m\n",
            "\u001b[0;31mValueError\u001b[0m: With n_samples=1, test_size=0.3 and train_size=None, the resulting train set will be empty. Adjust any of the aforementioned parameters."
          ]
        }
      ]
    },
    {
      "cell_type": "markdown",
      "source": [
        "**Task 9**At the conclusion of Task 8 you should have obtained an accuracy improvement of around 25% over the original dataset. Reflect on the optimization process that enabled you to obtain such an improvement. A short statement of 3 or 4 well-constructed sentences is sufficient for this task.\n"
      ],
      "metadata": {
        "id": "oqEx5xeaIFmz"
      }
    },
    {
      "cell_type": "markdown",
      "source": [
        "The initial dataset's accuracy was improved by 25% as a result of several crucial steps in the optimization process. In order to lessen overfitting and increase the diversity of the data, the dataset was first preprocessed using data augmentation techniques and standardization. Second, to boost the model's capacity and feature extraction capabilities, ResNet50, a cutting-edge architecture, was adopted as its foundation. The ResNet50 model's performance was then greatly enhanced by using transfer learning to tweak the pre-trained weights on the new dataset. Overall, the combination of these methods resulted in a significant increase in accuracy."
      ],
      "metadata": {
        "id": "OZ-zoJ1yI9mG"
      }
    }
  ]
}